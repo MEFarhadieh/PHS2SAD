{
  "nbformat": 4,
  "nbformat_minor": 0,
  "metadata": {
    "colab": {
      "provenance": []
    },
    "kernelspec": {
      "name": "python3",
      "display_name": "Python 3"
    },
    "language_info": {
      "name": "python"
    }
  },
  "cells": [
    {
      "cell_type": "code",
      "execution_count": 2,
      "metadata": {
        "colab": {
          "base_uri": "https://localhost:8080/"
        },
        "id": "WBHHm3lk_1mY",
        "outputId": "46bf94e8-b53a-4611-e937-a6f785ca88e0"
      },
      "outputs": [
        {
          "output_type": "stream",
          "name": "stdout",
          "text": [
            "Mounted at /content/drive\n"
          ]
        }
      ],
      "source": [
        "### Generate ROC analysis and visualization in Google Colab with Python\n",
        "# Import df.bl data, generated in R, from my drive\n",
        "from google.colab import drive\n",
        "drive.mount('/content/drive')"
      ]
    },
    {
      "cell_type": "code",
      "source": [
        "### 330 cases subset for 48m timeline by each 12m\n",
        "import pandas as pd\n",
        "df = pd.read_csv(\"drive/MyDrive/sub_48.csv\")\n",
        "df['PHS_bin'] = df['PHS'].apply(lambda x: 'Neg' if x < 0.652 else 'Pos')\n",
        "df.loc[df['VISCODE'] == 0, 'DX.bl'] = df.loc[df['VISCODE'] == 0, 'DX']"
      ],
      "metadata": {
        "id": "YigaQGlvAE4M"
      },
      "execution_count": 3,
      "outputs": []
    },
    {
      "cell_type": "code",
      "source": [
        "## Calculate Transition probability CN to AD\n",
        "# Count the number of participants in each diagnosis category at baseline\n",
        "baseline_counts = df['DX.bl'].value_counts()\n",
        "\n",
        "# Count the number of participants transitioning from CN to AD\n",
        "cn_to_ad_count = df[(df['DX.bl'] == 'CN') & (df['DX'] == 'AD')].shape[0]\n",
        "\n",
        "# Calculate the transition probability\n",
        "transition_prob = cn_to_ad_count / baseline_counts['CN']\n",
        "\n",
        "print(df[(df['DX.bl'] == 'CN') & (df['DX'] == 'AD')])\n",
        "print(\"Transition probability from CN to AD:\", transition_prob)"
      ],
      "metadata": {
        "colab": {
          "base_uri": "https://localhost:8080/"
        },
        "id": "VpLBX1KjAWxP",
        "outputId": "d08f5e6c-0d05-40bc-fee9-943d0a5f4e3c"
      },
      "execution_count": 4,
      "outputs": [
        {
          "output_type": "stream",
          "name": "stdout",
          "text": [
            "      RID ORIGPROT COLPROT  VISCODE  DX DX.bl   AGE  Years.bl PTGENDER  \\\n",
            "379  4041    ADNI2   ADNI2       24  AD    CN  77.9  1.930185   Female   \n",
            "380  4041    ADNI2   ADNI2       36  AD    CN  77.9  3.085558   Female   \n",
            "381  4041    ADNI2   ADNI2       48  AD    CN  77.9  4.030116   Female   \n",
            "\n",
            "     PTEDUCAT  ...   PTAU  PTAU.bl       SID       PHS       CIR  GAP.43  \\\n",
            "379        18  ...  39.02    30.42  4041_m24 -0.287062  0.060356  6339.3   \n",
            "380        18  ...    NaN    30.42  4041_m36 -0.287062  0.060356     NaN   \n",
            "381        18  ...    NaN    30.42  4041_m48 -0.287062  0.060356     NaN   \n",
            "\n",
            "     PLASMA_NFL  GAP.43.bl  PLASMA_NFL.bl  PHS_bin  \n",
            "379        96.5     5142.2           64.5      Neg  \n",
            "380        83.5     5142.2           64.5      Neg  \n",
            "381        80.7     5142.2           64.5      Neg  \n",
            "\n",
            "[3 rows x 37 columns]\n",
            "Transition probability from CN to AD: 0.007832898172323759\n"
          ]
        }
      ]
    },
    {
      "cell_type": "code",
      "source": [
        "## Calculate Transition probability MCI to AD\n",
        "# Count the number of participants in each diagnosis category at baseline\n",
        "baseline_counts = df['DX.bl'].value_counts()\n",
        "\n",
        "# Count the number of participants transitioning from MCI to AD\n",
        "MCI_to_ad_count = df[(df['DX.bl'] == 'MCI') & (df['DX'] == 'AD')].shape[0]\n",
        "\n",
        "# Calculate the transition probability\n",
        "transition_prob = MCI_to_ad_count / baseline_counts['MCI']\n",
        "\n",
        "print(df[(df['DX.bl'] == 'MCI') & (df['DX'] == 'AD')])\n",
        "print(\"Transition probability from MCI to AD:\", transition_prob)"
      ],
      "metadata": {
        "colab": {
          "base_uri": "https://localhost:8080/"
        },
        "id": "roakAWpzA9Li",
        "outputId": "67d20b29-ddf6-4450-d34e-e3fb09b22b95"
      },
      "execution_count": 5,
      "outputs": [
        {
          "output_type": "stream",
          "name": "stdout",
          "text": [
            "Empty DataFrame\n",
            "Columns: [RID, ORIGPROT, COLPROT, VISCODE, DX, DX.bl, AGE, Years.bl, PTGENDER, PTEDUCAT, APOE4, ADAS11, ADAS11.bl, ADAS13, ADAS13.bl, ADASQ4, ADASQ4.bl, CDRSB, CDRSB.bl, MOCA, MOCA.bl, MMSE, MMSE.bl, ABETA, ABETA.bl, TAU, TAU.bl, PTAU, PTAU.bl, SID, PHS, CIR, GAP.43, PLASMA_NFL, GAP.43.bl, PLASMA_NFL.bl, PHS_bin]\n",
            "Index: []\n",
            "\n",
            "[0 rows x 37 columns]\n",
            "Transition probability from MCI to AD: 0.0\n"
          ]
        }
      ]
    },
    {
      "cell_type": "code",
      "source": [
        "## Calculate Transition probability CN to MCI\n",
        "# Count the number of participants in each diagnosis category at baseline\n",
        "baseline_counts = df['DX.bl'].value_counts()\n",
        "\n",
        "# Count the number of participants transitioning from CN to MCI\n",
        "cn_to_MCI_count = df[(df['DX.bl'] == 'CN') & (df['DX'] == 'MCI')].shape[0]\n",
        "\n",
        "# Calculate the transition probability\n",
        "transition_prob = cn_to_MCI_count / baseline_counts['CN']\n",
        "\n",
        "print(df[(df['DX.bl'] == 'CN') & (df['DX'] == 'MCI')])\n",
        "print(\"Transition probability from CN to MCI:\", transition_prob)"
      ],
      "metadata": {
        "colab": {
          "base_uri": "https://localhost:8080/"
        },
        "id": "O2hpTe3mBXpS",
        "outputId": "bd3ef978-b336-4719-dabf-c12fd390afd2"
      },
      "execution_count": 6,
      "outputs": [
        {
          "output_type": "stream",
          "name": "stdout",
          "text": [
            "      RID ORIGPROT COLPROT  VISCODE   DX DX.bl   AGE  Years.bl PTGENDER  \\\n",
            "378  4041    ADNI2   ADNI2       12  MCI    CN  77.9  1.029432   Female   \n",
            "410  4071    ADNI2   ADNI2       24  MCI    CN  84.5  2.004107     Male   \n",
            "411  4071    ADNI2   ADNI2       36  MCI    CN  84.5  3.066393     Male   \n",
            "412  4071    ADNI2   ADNI2       48  MCI    CN  84.5  4.317591     Male   \n",
            "443  4092    ADNI2   ADNI2       12  MCI    CN  81.5  1.021218   Female   \n",
            "444  4092    ADNI2   ADNI2       24  MCI    CN  81.5  2.020534   Female   \n",
            "445  4092    ADNI2   ADNI2       36  MCI    CN  81.5  3.028063   Female   \n",
            "446  4092    ADNI2   ADNI2       48  MCI    CN  81.5  3.972621   Female   \n",
            "455  4100    ADNI2   ADNI2       48  MCI    CN  78.5  4.032854   Female   \n",
            "670  4262    ADNI2   ADNI2       24  MCI    CN  72.8  2.036961   Female   \n",
            "671  4262    ADNI2   ADNI2       36  MCI    CN  72.8  3.033539   Female   \n",
            "672  4262    ADNI2   ADNI2       48  MCI    CN  72.8  3.991786   Female   \n",
            "680  4270    ADNI2   ADNI2       48  MCI    CN  74.6  4.082136   Female   \n",
            "694  4275    ADNI2   ADNI2       48  MCI    CN  72.8  4.101300     Male   \n",
            "705  4288    ADNI2   ADNI2       24  MCI    CN  72.5  2.075291   Female   \n",
            "851  4388    ADNI2   ADNI2       24  MCI    CN  66.8  2.042437     Male   \n",
            "852  4388    ADNI2   ADNI2       36  MCI    CN  66.8  3.082820     Male   \n",
            "853  4388    ADNI2   ADNI2       48  MCI    CN  66.8  4.117728     Male   \n",
            "\n",
            "     PTEDUCAT  ...   PTAU  PTAU.bl       SID       PHS       CIR  GAP.43  \\\n",
            "378        18  ...    NaN    30.42  4041_m12 -0.287062  0.060356     NaN   \n",
            "410        13  ...  37.61    33.30  4071_m24 -0.177773  0.183813     NaN   \n",
            "411        13  ...    NaN    33.30  4071_m36 -0.177773  0.183813     NaN   \n",
            "412        13  ...  43.00    33.30  4071_m48 -0.177773  0.183813  7346.5   \n",
            "443        14  ...    NaN    41.02  4092_m12 -0.176200  0.119853     NaN   \n",
            "444        14  ...  45.91    41.02  4092_m24 -0.176200  0.119853  4784.7   \n",
            "445        14  ...    NaN    41.02  4092_m36 -0.176200  0.119853     NaN   \n",
            "446        14  ...    NaN    41.02  4092_m48 -0.176200  0.119853     NaN   \n",
            "455        12  ...    NaN    28.58  4100_m48 -0.328719  0.066873     NaN   \n",
            "670        16  ...  40.18    34.28  4262_m24  0.011834  0.039327  8631.7   \n",
            "671        16  ...    NaN    34.28  4262_m36  0.011834  0.039327     NaN   \n",
            "672        16  ...  38.42    34.28  4262_m48  0.011834  0.039327  7759.3   \n",
            "680        16  ...  19.91    19.03  4270_m48  1.144673  0.163558  2244.5   \n",
            "694        18  ...    NaN    20.11  4275_m48  0.262747  0.050542     NaN   \n",
            "705        14  ...    NaN    10.96  4288_m24  0.056012  0.041103     NaN   \n",
            "851        18  ...    NaN    16.55  4388_m24  1.800321  0.095704     NaN   \n",
            "852        18  ...    NaN    16.55  4388_m36  1.800321  0.095704     NaN   \n",
            "853        18  ...    NaN    16.55  4388_m48  1.800321  0.095704     NaN   \n",
            "\n",
            "     PLASMA_NFL  GAP.43.bl  PLASMA_NFL.bl  PHS_bin  \n",
            "378        82.2     5142.2           64.5      Neg  \n",
            "410         NaN     5005.0           37.9      Neg  \n",
            "411        82.6     5005.0           37.9      Neg  \n",
            "412         NaN     5005.0           37.9      Neg  \n",
            "443        84.1     5555.2           67.5      Neg  \n",
            "444        80.5     5555.2           67.5      Neg  \n",
            "445        80.5     5555.2           67.5      Neg  \n",
            "446        87.4     5555.2           67.5      Neg  \n",
            "455        57.3     5072.1           43.4      Neg  \n",
            "670        69.3     7229.6           50.3      Neg  \n",
            "671        54.4     7229.6           50.3      Neg  \n",
            "672        84.3     7229.6           50.3      Neg  \n",
            "680         NaN     2179.2           32.3      Pos  \n",
            "694        15.3     5555.1           19.2      Neg  \n",
            "705         NaN     1912.9           21.5      Neg  \n",
            "851        37.4     3075.6           40.4      Pos  \n",
            "852        35.5     3075.6           40.4      Pos  \n",
            "853        35.7     3075.6           40.4      Pos  \n",
            "\n",
            "[18 rows x 37 columns]\n",
            "Transition probability from CN to MCI: 0.04699738903394256\n"
          ]
        }
      ]
    },
    {
      "cell_type": "code",
      "source": [
        "### 529 cases subset for 24m timeline by each 12m\n",
        "import pandas as pd\n",
        "df = pd.read_csv(\"drive/MyDrive/sub_24.csv\")\n",
        "df['PHS_bin'] = df['PHS'].apply(lambda x: 'Neg' if x < 0.652 else 'Pos')\n",
        "df.loc[df['VISCODE'] == 0, 'DX.bl'] = df.loc[df['VISCODE'] == 0, 'DX']"
      ],
      "metadata": {
        "id": "8us_mZ5aDSEL"
      },
      "execution_count": 7,
      "outputs": []
    },
    {
      "cell_type": "code",
      "source": [
        "## Calculate Transition probability CN to AD\n",
        "# Count the number of participants in each diagnosis category at baseline\n",
        "baseline_counts = df['DX.bl'].value_counts()\n",
        "\n",
        "# Count the number of participants transitioning from CN to AD\n",
        "cn_to_ad_count = df[(df['DX.bl'] == 'CN') & (df['DX'] == 'AD')].shape[0]\n",
        "\n",
        "# Calculate the transition probability\n",
        "transition_prob = cn_to_ad_count / baseline_counts['CN']\n",
        "\n",
        "print(df[(df['DX.bl'] == 'CN') & (df['DX'] == 'AD')])\n",
        "print(\"Transition probability from CN to AD:\", transition_prob)"
      ],
      "metadata": {
        "colab": {
          "base_uri": "https://localhost:8080/"
        },
        "id": "5ARPzpDhD6N9",
        "outputId": "2ab1a537-089a-4fca-8ed3-eaa55096929f"
      },
      "execution_count": 8,
      "outputs": [
        {
          "output_type": "stream",
          "name": "stdout",
          "text": [
            "       RID ORIGPROT COLPROT  VISCODE  DX DX.bl   AGE  Years.bl PTGENDER  \\\n",
            "501   4041    ADNI2   ADNI2       24  AD    CN  77.9  1.930185   Female   \n",
            "1500  4506    ADNI2   ADNI2       24  AD    CN  71.5  2.028747     Male   \n",
            "\n",
            "      PTEDUCAT  ...    TAU  TAU.bl   PTAU  PTAU.bl       SID       PHS  \\\n",
            "501         18  ...  476.9   377.9  39.02    30.42  4041_m24 -0.287062   \n",
            "1500        19  ...  121.4   125.9  10.88    11.33  4506_m24 -0.329875   \n",
            "\n",
            "           CIR  GAP.43  PLASMA_NFL  PHS_bin  \n",
            "501   0.060356  6339.3        96.5      Neg  \n",
            "1500  0.024118  3857.9         NaN      Neg  \n",
            "\n",
            "[2 rows x 35 columns]\n",
            "Transition probability from CN to AD: 0.0030864197530864196\n"
          ]
        }
      ]
    },
    {
      "cell_type": "code",
      "source": [
        "## Calculate Transition probability MCI to AD\n",
        "# Count the number of participants in each diagnosis category at baseline\n",
        "baseline_counts = df['DX.bl'].value_counts()\n",
        "\n",
        "# Count the number of participants transitioning from MCI to AD\n",
        "MCI_to_ad_count = df[(df['DX.bl'] == 'MCI') & (df['DX'] == 'AD')].shape[0]\n",
        "\n",
        "# Calculate the transition probability\n",
        "transition_prob = MCI_to_ad_count / baseline_counts['MCI']\n",
        "\n",
        "print(df[(df['DX.bl'] == 'MCI') & (df['DX'] == 'AD')])\n",
        "print(\"Transition probability from MCI to AD:\", transition_prob)"
      ],
      "metadata": {
        "colab": {
          "base_uri": "https://localhost:8080/"
        },
        "id": "hDRb_ce7EL-6",
        "outputId": "5c05712c-28ef-4489-cc47-d4e73d750e4b"
      },
      "execution_count": 9,
      "outputs": [
        {
          "output_type": "stream",
          "name": "stdout",
          "text": [
            "Empty DataFrame\n",
            "Columns: [RID, ORIGPROT, COLPROT, VISCODE, DX, DX.bl, AGE, Years.bl, PTGENDER, PTEDUCAT, APOE4, ADAS11, ADAS11.bl, ADAS13, ADAS13.bl, ADASQ4, ADASQ4.bl, CDRSB, CDRSB.bl, MOCA, MOCA.bl, MMSE, MMSE.bl, ABETA, ABETA.bl, TAU, TAU.bl, PTAU, PTAU.bl, SID, PHS, CIR, GAP.43, PLASMA_NFL, PHS_bin]\n",
            "Index: []\n",
            "\n",
            "[0 rows x 35 columns]\n",
            "Transition probability from MCI to AD: 0.0\n"
          ]
        }
      ]
    },
    {
      "cell_type": "code",
      "source": [
        "## Calculate Transition probability CN to MCI\n",
        "# Count the number of participants in each diagnosis category at baseline\n",
        "baseline_counts = df['DX.bl'].value_counts()\n",
        "\n",
        "# Count the number of participants transitioning from CN to MCI\n",
        "cn_to_MCI_count = df[(df['DX.bl'] == 'CN') & (df['DX'] == 'MCI')].shape[0]\n",
        "\n",
        "# Calculate the transition probability\n",
        "transition_prob = cn_to_MCI_count / baseline_counts['CN']\n",
        "\n",
        "print(df[(df['DX.bl'] == 'CN') & (df['DX'] == 'MCI')])\n",
        "print(\"Transition probability from CN to MCI:\", transition_prob)"
      ],
      "metadata": {
        "colab": {
          "base_uri": "https://localhost:8080/"
        },
        "id": "brQXt-ENEVjs",
        "outputId": "4b07d237-c621-4423-bff1-4dc3fa849b50"
      },
      "execution_count": 10,
      "outputs": [
        {
          "output_type": "stream",
          "name": "stdout",
          "text": [
            "       RID ORIGPROT COLPROT  VISCODE   DX DX.bl   AGE  Years.bl PTGENDER  \\\n",
            "498   4041    ADNI2   ADNI2        6  MCI    CN  77.9  0.514716   Female   \n",
            "499   4041    ADNI2   ADNI2       12  MCI    CN  77.9  1.029432   Female   \n",
            "545   4071    ADNI2   ADNI2       24  MCI    CN  84.5  2.004107     Male   \n",
            "598   4092    ADNI2   ADNI2       12  MCI    CN  81.5  1.021218   Female   \n",
            "600   4092    ADNI2   ADNI2       24  MCI    CN  81.5  2.020534   Female   \n",
            "892   4218    ADNI2   ADNI2       12  MCI    CN  80.7  1.018480     Male   \n",
            "894   4218    ADNI2   ADNI2       24  MCI    CN  80.7  1.954825     Male   \n",
            "964   4262    ADNI2   ADNI2       24  MCI    CN  72.8  2.036961   Female   \n",
            "1031  4288    ADNI2   ADNI2       24  MCI    CN  72.5  2.075291   Female   \n",
            "1215  4388    ADNI2   ADNI2        6  MCI    CN  66.8  0.490075     Male   \n",
            "1218  4388    ADNI2   ADNI2       24  MCI    CN  66.8  2.042437     Male   \n",
            "1467  4499    ADNI2   ADNI2        6  MCI    CN  83.8  0.511978     Male   \n",
            "1498  4506    ADNI2   ADNI2       12  MCI    CN  71.5  1.396304     Male   \n",
            "1635  4566    ADNI2   ADNI2       24  MCI    CN  83.4  2.031485   Female   \n",
            "\n",
            "      PTEDUCAT  ...    TAU  TAU.bl   PTAU  PTAU.bl       SID       PHS  \\\n",
            "498         18  ...    NaN   377.9    NaN    30.42  4041_m06 -0.287062   \n",
            "499         18  ...    NaN   377.9    NaN    30.42  4041_m12 -0.287062   \n",
            "545         13  ...  418.9   374.9  37.61    33.30  4071_m24 -0.177773   \n",
            "598         14  ...    NaN   433.2    NaN    41.02  4092_m12 -0.176200   \n",
            "600         14  ...  449.5   433.2  45.91    41.02  4092_m24 -0.176200   \n",
            "892         16  ...    NaN   286.7    NaN    25.45  4218_m12 -0.236157   \n",
            "894         16  ...  316.5   286.7   27.6    25.45  4218_m24 -0.236157   \n",
            "964         16  ...  408.5   347.9  40.18    34.28  4262_m24  0.011834   \n",
            "1031        14  ...    NaN   123.3    NaN    10.96  4288_m24  0.056012   \n",
            "1215        18  ...    NaN   186.8    NaN    16.55  4388_m06  1.800321   \n",
            "1218        18  ...    NaN   186.8    NaN    16.55  4388_m24  1.800321   \n",
            "1467        20  ...    NaN   256.9    NaN    26.29  4499_m06 -0.979882   \n",
            "1498        19  ...    NaN   125.9    NaN    11.33  4506_m12 -0.329875   \n",
            "1635        12  ...    NaN   347.4    NaN    33.37  4566_m24  1.102001   \n",
            "\n",
            "           CIR   GAP.43  PLASMA_NFL  PHS_bin  \n",
            "498   0.060356      NaN         NaN      Neg  \n",
            "499   0.060356      NaN        82.2      Neg  \n",
            "545   0.183813      NaN         NaN      Neg  \n",
            "598   0.119853      NaN        84.1      Neg  \n",
            "600   0.119853   4784.7        80.5      Neg  \n",
            "892   0.097797      NaN        32.7      Neg  \n",
            "894   0.097797  13412.0        27.0      Neg  \n",
            "964   0.039327   8631.7        69.3      Neg  \n",
            "1031  0.041103      NaN         NaN      Neg  \n",
            "1215  0.095704      NaN         NaN      Pos  \n",
            "1218  0.095704      NaN        37.4      Pos  \n",
            "1467  0.071442      NaN         NaN      Neg  \n",
            "1498  0.024118      NaN        38.4      Neg  \n",
            "1635  0.496558      NaN        35.4      Pos  \n",
            "\n",
            "[14 rows x 35 columns]\n",
            "Transition probability from CN to MCI: 0.021604938271604937\n"
          ]
        }
      ]
    }
  ]
}